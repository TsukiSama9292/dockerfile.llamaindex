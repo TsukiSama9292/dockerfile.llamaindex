{
 "cells": [
  {
   "cell_type": "code",
   "execution_count": null,
   "metadata": {},
   "outputs": [],
   "source": [
    "!pip install llama-index\n",
    "!pip install llama-index-llms-ollama\n",
    "!pip install llama-index-embeddings-huggingface"
   ]
  },
  {
   "cell_type": "code",
   "execution_count": null,
   "metadata": {},
   "outputs": [],
   "source": [
    "from llama_index.llms.ollama import Ollama\n",
    "from llama_index.core import KeywordTableIndex, SimpleDirectoryReader\n",
    "from llama_index.core.tools import BaseTool, FunctionTool\n",
    "\n",
    "# 本地 Ollama 模型\n",
    "llm = Ollama(base_url='http://100.73.132.110:60006', model=\"k12\", request_timeout=30.0)\n",
    "# 加載文檔，允許pdf,word,ppt,markdown,txt等格式\n",
    "documents = SimpleDirectoryReader(\"./data\").load_data()\n",
    "# 創建索引\n",
    "index = KeywordTableIndex.from_documents(documents, llm=llm)\n",
    "# 創建查詢引擎\n",
    "query_engine = index.as_query_engine(llm=llm)\n",
    "\n",
    "def query_tool(query: str) -> str:\n",
    "    response = query_engine.query(query)\n",
    "    return response.response\n",
    "\n",
    "query_function_tool = FunctionTool.from_defaults(fn=query_tool)"
   ]
  },
  {
   "cell_type": "code",
   "execution_count": null,
   "metadata": {},
   "outputs": [],
   "source": [
    "from llama_index.core import KeywordTableIndex, SimpleDirectoryReader, ServiceContext\n",
    "from llama_index.core.tools import FunctionTool\n",
    "from llama_index.llms.ollama import Ollama\n",
    "\n",
    "llm = Ollama(base_url='http://100.73.132.110:60006', model=\"k12\", request_timeout=30.0)\n",
    "documents = SimpleDirectoryReader(\"./data\").load_data()\n",
    "index = KeywordTableIndex.from_documents(documents, llm=llm)\n",
    "query_engine = index.as_query_engine(llm=llm)\n",
    "def query_tool(query: str) -> str:\n",
    "    response = query_engine.query(query)\n",
    "    return response.response\n",
    "\n",
    "query_function_tool = FunctionTool.from_defaults(fn=query_tool)"
   ]
  },
  {
   "cell_type": "code",
   "execution_count": null,
   "metadata": {},
   "outputs": [],
   "source": [
    "# 定義自定義的 LLMPredictor\n",
    "class CustomLLMPredictor(LLMPredictor):\n",
    "    def __init__(self, llm):\n",
    "        self.llm = llm\n",
    "\n",
    "    def get_llm(self):\n",
    "        return self.llm\n",
    "\n",
    "# 創建 ServiceContext\n",
    "service_context = ServiceContext.from_defaults(\n",
    "    llm_predictor=CustomLLMPredictor(llm)\n",
    ")\n",
    "\n",
    "# 使用 ServiceContext 創建代理\n",
    "agent = service_context.as_agent()"
   ]
  },
  {
   "cell_type": "code",
   "execution_count": null,
   "metadata": {},
   "outputs": [],
   "source": [
    "# 使用代理進行查詢\n",
    "response = agent.chat(\"商管人最需要培養的資料探勘技能是\")\n",
    "print(response.response)"
   ]
  },
  {
   "cell_type": "code",
   "execution_count": null,
   "metadata": {},
   "outputs": [],
   "source": []
  },
  {
   "cell_type": "code",
   "execution_count": null,
   "metadata": {},
   "outputs": [],
   "source": [
    "from llama_index.core import SimpleDirectoryReader, VectorStoreIndex, Settings\n",
    "from llama_index.llms.ollama import Ollama\n",
    "from llama_index.embeddings.huggingface import HuggingFaceEmbedding\n",
    "Settings.llm = Ollama(base_url='http://100.73.132.110:60006', model=\"k12\", request_timeout=30.0)\n",
    "Settings.embed_model = HuggingFaceEmbedding(model_name=\"BAAI/bge-small-zh-v1.5\")\n",
    "\n",
    "documents = SimpleDirectoryReader(\"./data\").load_data()\n",
    "index = VectorStoreIndex.from_documents(documents)\n",
    "query_engine = index.as_query_engine()\n",
    "response = query_engine.query(\n",
    "    \"商管人最需要培養的資料探勘技能是\"\n",
    ")\n",
    "print(response)"
   ]
  }
 ],
 "metadata": {
  "kernelspec": {
   "display_name": ".venv",
   "language": "python",
   "name": "python3"
  },
  "language_info": {
   "codemirror_mode": {
    "name": "ipython",
    "version": 3
   },
   "file_extension": ".py",
   "mimetype": "text/x-python",
   "name": "python",
   "nbconvert_exporter": "python",
   "pygments_lexer": "ipython3",
   "version": "3.12.3"
  }
 },
 "nbformat": 4,
 "nbformat_minor": 2
}
